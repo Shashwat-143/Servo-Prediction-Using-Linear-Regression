{
  "nbformat": 4,
  "nbformat_minor": 0,
  "metadata": {
    "colab": {
      "provenance": [],
      "authorship_tag": "ABX9TyPTdszfnPp0hEkW/sUrsrFm",
      "include_colab_link": true
    },
    "kernelspec": {
      "name": "python3",
      "display_name": "Python 3"
    },
    "language_info": {
      "name": "python"
    }
  },
  "cells": [
    {
      "cell_type": "markdown",
      "metadata": {
        "id": "view-in-github",
        "colab_type": "text"
      },
      "source": [
        "<a href=\"https://colab.research.google.com/github/Shashwat-143/Servo-Prediction-Using-Linear-Regression/blob/main/Servo_Prediction_using_Linear_Regression.ipynb\" target=\"_parent\"><img src=\"https://colab.research.google.com/assets/colab-badge.svg\" alt=\"Open In Colab\"/></a>"
      ]
    },
    {
      "cell_type": "markdown",
      "source": [
        "# **Get Understanding about Data Set**"
      ],
      "metadata": {
        "id": "ob1kwnkdfItP"
      }
    },
    {
      "cell_type": "markdown",
      "source": [
        "![1.jfif](data:image/jpeg;base64,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)"
      ],
      "metadata": {
        "id": "0vV9lsIMxi71"
      }
    },
    {
      "cell_type": "markdown",
      "source": [
        "**What is Servo:** In control engineering a servomechanism, usually shortened to servo, is an automatic device that user error-ensing negative feedback to correct the action of a mechanism. On displacement-controlled applications, it usually includes a build-in encoder or other position feedback mechanism to ensure the output is achieving the desired effect. The term correctly applies only to systems where the feedback or error-correction signals help control mechanism position, speed, attitude or any other measurable variables. For examples, an automotive power window control is not a servomechanism, as there is no automatic feedback that controls position-the operator does this by observation. By contrast a car's cruise control user closed-loop feedback, which classifies it as a servomechanism."
      ],
      "metadata": {
        "id": "yQ-0Bckkxzcc"
      }
    },
    {
      "cell_type": "markdown",
      "source": [
        "A data frame with 167 observations on 5 variables, 4 nominal and 1 as the target class. This data set is fom a simulation of a servo system involving a servo amplifier, a lead screw/nut, and a sliding carriage of some sort. It may have been on the translational axes of a robot on the 9th floor of the AI lab. In any case, the output value is almost certainly a rise time, or the time required for the system to respond to a step change in a position set point. The variables that describe the data set and their values are the following:\n"
      ],
      "metadata": {
        "id": "Lb7ym4PD_z_s"
      }
    },
    {
      "cell_type": "markdown",
      "source": [
        "1. Motor A,B,C,D,E\n",
        "2. Screw A,B,C,D,E\n",
        "3. Pgain 3,4,5,6\n",
        "4. Vgain 1,2,3,4,5\n",
        "5. Class 0.13 to 7.10"
      ],
      "metadata": {
        "id": "Zy_HXSg4EVn3"
      }
    },
    {
      "cell_type": "markdown",
      "source": [
        "# **Import Library**"
      ],
      "metadata": {
        "id": "fSN_HLEgIxwR"
      }
    },
    {
      "cell_type": "code",
      "source": [
        "import pandas as pd"
      ],
      "metadata": {
        "id": "WHvq6AEliOPV"
      },
      "execution_count": 2,
      "outputs": []
    },
    {
      "cell_type": "code",
      "source": [
        "import numpy as np"
      ],
      "metadata": {
        "id": "PxAL_X8LoEFC"
      },
      "execution_count": 3,
      "outputs": []
    },
    {
      "cell_type": "markdown",
      "source": [
        "# **Import CSV as DataFrame**"
      ],
      "metadata": {
        "id": "f6J-Kx2nI3UE"
      }
    },
    {
      "cell_type": "code",
      "source": [
        "df = pd.read_csv(r'https://raw.githubusercontent.com/YBI-Foundation/Dataset/main/Servo%20Mechanism.csv')"
      ],
      "metadata": {
        "id": "l2S8TZ_DoIOq"
      },
      "execution_count": 37,
      "outputs": []
    },
    {
      "cell_type": "markdown",
      "source": [
        "# **Get the First Five Rows of DataFrame**"
      ],
      "metadata": {
        "id": "7Ib2IRsLI-pR"
      }
    },
    {
      "cell_type": "code",
      "source": [
        "df.head()"
      ],
      "metadata": {
        "colab": {
          "base_uri": "https://localhost:8080/",
          "height": 206
        },
        "id": "Bn5KuV3MJQ8Y",
        "outputId": "2d580d35-7ab7-4e40-80e8-66e06d3b6f56"
      },
      "execution_count": 5,
      "outputs": [
        {
          "output_type": "execute_result",
          "data": {
            "text/plain": [
              "  Motor Screw  Pgain  Vgain  Class\n",
              "0     E     E      5      4      4\n",
              "1     B     D      6      5     11\n",
              "2     D     D      4      3      6\n",
              "3     B     A      3      2     48\n",
              "4     D     B      6      5      6"
            ],
            "text/html": [
              "\n",
              "  <div id=\"df-b48a6ff9-3c05-440c-9bdd-35611ae18580\">\n",
              "    <div class=\"colab-df-container\">\n",
              "      <div>\n",
              "<style scoped>\n",
              "    .dataframe tbody tr th:only-of-type {\n",
              "        vertical-align: middle;\n",
              "    }\n",
              "\n",
              "    .dataframe tbody tr th {\n",
              "        vertical-align: top;\n",
              "    }\n",
              "\n",
              "    .dataframe thead th {\n",
              "        text-align: right;\n",
              "    }\n",
              "</style>\n",
              "<table border=\"1\" class=\"dataframe\">\n",
              "  <thead>\n",
              "    <tr style=\"text-align: right;\">\n",
              "      <th></th>\n",
              "      <th>Motor</th>\n",
              "      <th>Screw</th>\n",
              "      <th>Pgain</th>\n",
              "      <th>Vgain</th>\n",
              "      <th>Class</th>\n",
              "    </tr>\n",
              "  </thead>\n",
              "  <tbody>\n",
              "    <tr>\n",
              "      <th>0</th>\n",
              "      <td>E</td>\n",
              "      <td>E</td>\n",
              "      <td>5</td>\n",
              "      <td>4</td>\n",
              "      <td>4</td>\n",
              "    </tr>\n",
              "    <tr>\n",
              "      <th>1</th>\n",
              "      <td>B</td>\n",
              "      <td>D</td>\n",
              "      <td>6</td>\n",
              "      <td>5</td>\n",
              "      <td>11</td>\n",
              "    </tr>\n",
              "    <tr>\n",
              "      <th>2</th>\n",
              "      <td>D</td>\n",
              "      <td>D</td>\n",
              "      <td>4</td>\n",
              "      <td>3</td>\n",
              "      <td>6</td>\n",
              "    </tr>\n",
              "    <tr>\n",
              "      <th>3</th>\n",
              "      <td>B</td>\n",
              "      <td>A</td>\n",
              "      <td>3</td>\n",
              "      <td>2</td>\n",
              "      <td>48</td>\n",
              "    </tr>\n",
              "    <tr>\n",
              "      <th>4</th>\n",
              "      <td>D</td>\n",
              "      <td>B</td>\n",
              "      <td>6</td>\n",
              "      <td>5</td>\n",
              "      <td>6</td>\n",
              "    </tr>\n",
              "  </tbody>\n",
              "</table>\n",
              "</div>\n",
              "      <button class=\"colab-df-convert\" onclick=\"convertToInteractive('df-b48a6ff9-3c05-440c-9bdd-35611ae18580')\"\n",
              "              title=\"Convert this dataframe to an interactive table.\"\n",
              "              style=\"display:none;\">\n",
              "        \n",
              "  <svg xmlns=\"http://www.w3.org/2000/svg\" height=\"24px\"viewBox=\"0 0 24 24\"\n",
              "       width=\"24px\">\n",
              "    <path d=\"M0 0h24v24H0V0z\" fill=\"none\"/>\n",
              "    <path d=\"M18.56 5.44l.94 2.06.94-2.06 2.06-.94-2.06-.94-.94-2.06-.94 2.06-2.06.94zm-11 1L8.5 8.5l.94-2.06 2.06-.94-2.06-.94L8.5 2.5l-.94 2.06-2.06.94zm10 10l.94 2.06.94-2.06 2.06-.94-2.06-.94-.94-2.06-.94 2.06-2.06.94z\"/><path d=\"M17.41 7.96l-1.37-1.37c-.4-.4-.92-.59-1.43-.59-.52 0-1.04.2-1.43.59L10.3 9.45l-7.72 7.72c-.78.78-.78 2.05 0 2.83L4 21.41c.39.39.9.59 1.41.59.51 0 1.02-.2 1.41-.59l7.78-7.78 2.81-2.81c.8-.78.8-2.07 0-2.86zM5.41 20L4 18.59l7.72-7.72 1.47 1.35L5.41 20z\"/>\n",
              "  </svg>\n",
              "      </button>\n",
              "      \n",
              "  <style>\n",
              "    .colab-df-container {\n",
              "      display:flex;\n",
              "      flex-wrap:wrap;\n",
              "      gap: 12px;\n",
              "    }\n",
              "\n",
              "    .colab-df-convert {\n",
              "      background-color: #E8F0FE;\n",
              "      border: none;\n",
              "      border-radius: 50%;\n",
              "      cursor: pointer;\n",
              "      display: none;\n",
              "      fill: #1967D2;\n",
              "      height: 32px;\n",
              "      padding: 0 0 0 0;\n",
              "      width: 32px;\n",
              "    }\n",
              "\n",
              "    .colab-df-convert:hover {\n",
              "      background-color: #E2EBFA;\n",
              "      box-shadow: 0px 1px 2px rgba(60, 64, 67, 0.3), 0px 1px 3px 1px rgba(60, 64, 67, 0.15);\n",
              "      fill: #174EA6;\n",
              "    }\n",
              "\n",
              "    [theme=dark] .colab-df-convert {\n",
              "      background-color: #3B4455;\n",
              "      fill: #D2E3FC;\n",
              "    }\n",
              "\n",
              "    [theme=dark] .colab-df-convert:hover {\n",
              "      background-color: #434B5C;\n",
              "      box-shadow: 0px 1px 3px 1px rgba(0, 0, 0, 0.15);\n",
              "      filter: drop-shadow(0px 1px 2px rgba(0, 0, 0, 0.3));\n",
              "      fill: #FFFFFF;\n",
              "    }\n",
              "  </style>\n",
              "\n",
              "      <script>\n",
              "        const buttonEl =\n",
              "          document.querySelector('#df-b48a6ff9-3c05-440c-9bdd-35611ae18580 button.colab-df-convert');\n",
              "        buttonEl.style.display =\n",
              "          google.colab.kernel.accessAllowed ? 'block' : 'none';\n",
              "\n",
              "        async function convertToInteractive(key) {\n",
              "          const element = document.querySelector('#df-b48a6ff9-3c05-440c-9bdd-35611ae18580');\n",
              "          const dataTable =\n",
              "            await google.colab.kernel.invokeFunction('convertToInteractive',\n",
              "                                                     [key], {});\n",
              "          if (!dataTable) return;\n",
              "\n",
              "          const docLinkHtml = 'Like what you see? Visit the ' +\n",
              "            '<a target=\"_blank\" href=https://colab.research.google.com/notebooks/data_table.ipynb>data table notebook</a>'\n",
              "            + ' to learn more about interactive tables.';\n",
              "          element.innerHTML = '';\n",
              "          dataTable['output_type'] = 'display_data';\n",
              "          await google.colab.output.renderOutput(dataTable, element);\n",
              "          const docLink = document.createElement('div');\n",
              "          docLink.innerHTML = docLinkHtml;\n",
              "          element.appendChild(docLink);\n",
              "        }\n",
              "      </script>\n",
              "    </div>\n",
              "  </div>\n",
              "  "
            ]
          },
          "metadata": {},
          "execution_count": 5
        }
      ]
    },
    {
      "cell_type": "markdown",
      "source": [
        "# **Get Information of DataFrame**"
      ],
      "metadata": {
        "id": "gN8aL-bpJYRm"
      }
    },
    {
      "cell_type": "code",
      "source": [
        "df.info()"
      ],
      "metadata": {
        "colab": {
          "base_uri": "https://localhost:8080/",
          "height": 0
        },
        "id": "Jf8XWY0hJcZF",
        "outputId": "bfd7ac66-f663-4d86-dc1e-59dd73a16e3d"
      },
      "execution_count": 6,
      "outputs": [
        {
          "output_type": "stream",
          "name": "stdout",
          "text": [
            "<class 'pandas.core.frame.DataFrame'>\n",
            "RangeIndex: 167 entries, 0 to 166\n",
            "Data columns (total 5 columns):\n",
            " #   Column  Non-Null Count  Dtype \n",
            "---  ------  --------------  ----- \n",
            " 0   Motor   167 non-null    object\n",
            " 1   Screw   167 non-null    object\n",
            " 2   Pgain   167 non-null    int64 \n",
            " 3   Vgain   167 non-null    int64 \n",
            " 4   Class   167 non-null    int64 \n",
            "dtypes: int64(3), object(2)\n",
            "memory usage: 6.6+ KB\n"
          ]
        }
      ]
    },
    {
      "cell_type": "markdown",
      "source": [
        "# **Get the Summary Statistics**"
      ],
      "metadata": {
        "id": "GV5R8R8XJhX6"
      }
    },
    {
      "cell_type": "code",
      "source": [
        "df.describe()"
      ],
      "metadata": {
        "colab": {
          "base_uri": "https://localhost:8080/",
          "height": 300
        },
        "id": "C8BLtoo3JpAE",
        "outputId": "a635c4e1-c67c-4647-9ea4-d89c91d18419"
      },
      "execution_count": 7,
      "outputs": [
        {
          "output_type": "execute_result",
          "data": {
            "text/plain": [
              "            Pgain       Vgain       Class\n",
              "count  167.000000  167.000000  167.000000\n",
              "mean     4.155689    2.538922   21.173653\n",
              "std      1.017770    1.369850   13.908038\n",
              "min      3.000000    1.000000    1.000000\n",
              "25%      3.000000    1.000000   10.500000\n",
              "50%      4.000000    2.000000   18.000000\n",
              "75%      5.000000    4.000000   33.500000\n",
              "max      6.000000    5.000000   51.000000"
            ],
            "text/html": [
              "\n",
              "  <div id=\"df-9b99451c-d8b0-4261-a28e-4eae232383d9\">\n",
              "    <div class=\"colab-df-container\">\n",
              "      <div>\n",
              "<style scoped>\n",
              "    .dataframe tbody tr th:only-of-type {\n",
              "        vertical-align: middle;\n",
              "    }\n",
              "\n",
              "    .dataframe tbody tr th {\n",
              "        vertical-align: top;\n",
              "    }\n",
              "\n",
              "    .dataframe thead th {\n",
              "        text-align: right;\n",
              "    }\n",
              "</style>\n",
              "<table border=\"1\" class=\"dataframe\">\n",
              "  <thead>\n",
              "    <tr style=\"text-align: right;\">\n",
              "      <th></th>\n",
              "      <th>Pgain</th>\n",
              "      <th>Vgain</th>\n",
              "      <th>Class</th>\n",
              "    </tr>\n",
              "  </thead>\n",
              "  <tbody>\n",
              "    <tr>\n",
              "      <th>count</th>\n",
              "      <td>167.000000</td>\n",
              "      <td>167.000000</td>\n",
              "      <td>167.000000</td>\n",
              "    </tr>\n",
              "    <tr>\n",
              "      <th>mean</th>\n",
              "      <td>4.155689</td>\n",
              "      <td>2.538922</td>\n",
              "      <td>21.173653</td>\n",
              "    </tr>\n",
              "    <tr>\n",
              "      <th>std</th>\n",
              "      <td>1.017770</td>\n",
              "      <td>1.369850</td>\n",
              "      <td>13.908038</td>\n",
              "    </tr>\n",
              "    <tr>\n",
              "      <th>min</th>\n",
              "      <td>3.000000</td>\n",
              "      <td>1.000000</td>\n",
              "      <td>1.000000</td>\n",
              "    </tr>\n",
              "    <tr>\n",
              "      <th>25%</th>\n",
              "      <td>3.000000</td>\n",
              "      <td>1.000000</td>\n",
              "      <td>10.500000</td>\n",
              "    </tr>\n",
              "    <tr>\n",
              "      <th>50%</th>\n",
              "      <td>4.000000</td>\n",
              "      <td>2.000000</td>\n",
              "      <td>18.000000</td>\n",
              "    </tr>\n",
              "    <tr>\n",
              "      <th>75%</th>\n",
              "      <td>5.000000</td>\n",
              "      <td>4.000000</td>\n",
              "      <td>33.500000</td>\n",
              "    </tr>\n",
              "    <tr>\n",
              "      <th>max</th>\n",
              "      <td>6.000000</td>\n",
              "      <td>5.000000</td>\n",
              "      <td>51.000000</td>\n",
              "    </tr>\n",
              "  </tbody>\n",
              "</table>\n",
              "</div>\n",
              "      <button class=\"colab-df-convert\" onclick=\"convertToInteractive('df-9b99451c-d8b0-4261-a28e-4eae232383d9')\"\n",
              "              title=\"Convert this dataframe to an interactive table.\"\n",
              "              style=\"display:none;\">\n",
              "        \n",
              "  <svg xmlns=\"http://www.w3.org/2000/svg\" height=\"24px\"viewBox=\"0 0 24 24\"\n",
              "       width=\"24px\">\n",
              "    <path d=\"M0 0h24v24H0V0z\" fill=\"none\"/>\n",
              "    <path d=\"M18.56 5.44l.94 2.06.94-2.06 2.06-.94-2.06-.94-.94-2.06-.94 2.06-2.06.94zm-11 1L8.5 8.5l.94-2.06 2.06-.94-2.06-.94L8.5 2.5l-.94 2.06-2.06.94zm10 10l.94 2.06.94-2.06 2.06-.94-2.06-.94-.94-2.06-.94 2.06-2.06.94z\"/><path d=\"M17.41 7.96l-1.37-1.37c-.4-.4-.92-.59-1.43-.59-.52 0-1.04.2-1.43.59L10.3 9.45l-7.72 7.72c-.78.78-.78 2.05 0 2.83L4 21.41c.39.39.9.59 1.41.59.51 0 1.02-.2 1.41-.59l7.78-7.78 2.81-2.81c.8-.78.8-2.07 0-2.86zM5.41 20L4 18.59l7.72-7.72 1.47 1.35L5.41 20z\"/>\n",
              "  </svg>\n",
              "      </button>\n",
              "      \n",
              "  <style>\n",
              "    .colab-df-container {\n",
              "      display:flex;\n",
              "      flex-wrap:wrap;\n",
              "      gap: 12px;\n",
              "    }\n",
              "\n",
              "    .colab-df-convert {\n",
              "      background-color: #E8F0FE;\n",
              "      border: none;\n",
              "      border-radius: 50%;\n",
              "      cursor: pointer;\n",
              "      display: none;\n",
              "      fill: #1967D2;\n",
              "      height: 32px;\n",
              "      padding: 0 0 0 0;\n",
              "      width: 32px;\n",
              "    }\n",
              "\n",
              "    .colab-df-convert:hover {\n",
              "      background-color: #E2EBFA;\n",
              "      box-shadow: 0px 1px 2px rgba(60, 64, 67, 0.3), 0px 1px 3px 1px rgba(60, 64, 67, 0.15);\n",
              "      fill: #174EA6;\n",
              "    }\n",
              "\n",
              "    [theme=dark] .colab-df-convert {\n",
              "      background-color: #3B4455;\n",
              "      fill: #D2E3FC;\n",
              "    }\n",
              "\n",
              "    [theme=dark] .colab-df-convert:hover {\n",
              "      background-color: #434B5C;\n",
              "      box-shadow: 0px 1px 3px 1px rgba(0, 0, 0, 0.15);\n",
              "      filter: drop-shadow(0px 1px 2px rgba(0, 0, 0, 0.3));\n",
              "      fill: #FFFFFF;\n",
              "    }\n",
              "  </style>\n",
              "\n",
              "      <script>\n",
              "        const buttonEl =\n",
              "          document.querySelector('#df-9b99451c-d8b0-4261-a28e-4eae232383d9 button.colab-df-convert');\n",
              "        buttonEl.style.display =\n",
              "          google.colab.kernel.accessAllowed ? 'block' : 'none';\n",
              "\n",
              "        async function convertToInteractive(key) {\n",
              "          const element = document.querySelector('#df-9b99451c-d8b0-4261-a28e-4eae232383d9');\n",
              "          const dataTable =\n",
              "            await google.colab.kernel.invokeFunction('convertToInteractive',\n",
              "                                                     [key], {});\n",
              "          if (!dataTable) return;\n",
              "\n",
              "          const docLinkHtml = 'Like what you see? Visit the ' +\n",
              "            '<a target=\"_blank\" href=https://colab.research.google.com/notebooks/data_table.ipynb>data table notebook</a>'\n",
              "            + ' to learn more about interactive tables.';\n",
              "          element.innerHTML = '';\n",
              "          dataTable['output_type'] = 'display_data';\n",
              "          await google.colab.output.renderOutput(dataTable, element);\n",
              "          const docLink = document.createElement('div');\n",
              "          docLink.innerHTML = docLinkHtml;\n",
              "          element.appendChild(docLink);\n",
              "        }\n",
              "      </script>\n",
              "    </div>\n",
              "  </div>\n",
              "  "
            ]
          },
          "metadata": {},
          "execution_count": 7
        }
      ]
    },
    {
      "cell_type": "markdown",
      "source": [
        "#**Get Column Names**"
      ],
      "metadata": {
        "id": "EYOcFPBNJ1zd"
      }
    },
    {
      "cell_type": "code",
      "source": [
        "df.columns"
      ],
      "metadata": {
        "colab": {
          "base_uri": "https://localhost:8080/",
          "height": 0
        },
        "id": "G1ySc76VJ9JH",
        "outputId": "8648eda1-5ae0-4f91-b8ab-5cbe525963e8"
      },
      "execution_count": 8,
      "outputs": [
        {
          "output_type": "execute_result",
          "data": {
            "text/plain": [
              "Index(['Motor', 'Screw', 'Pgain', 'Vgain', 'Class'], dtype='object')"
            ]
          },
          "metadata": {},
          "execution_count": 8
        }
      ]
    },
    {
      "cell_type": "markdown",
      "source": [
        "#**Get Shape of DataFrame**"
      ],
      "metadata": {
        "id": "oRoX42KUKRC0"
      }
    },
    {
      "cell_type": "code",
      "source": [
        "df.shape"
      ],
      "metadata": {
        "colab": {
          "base_uri": "https://localhost:8080/",
          "height": 0
        },
        "id": "8aqTjoaYKZ-P",
        "outputId": "0656d81a-9a94-4813-f2f7-3f7a92de78d5"
      },
      "execution_count": 38,
      "outputs": [
        {
          "output_type": "execute_result",
          "data": {
            "text/plain": [
              "(167, 5)"
            ]
          },
          "metadata": {},
          "execution_count": 38
        }
      ]
    },
    {
      "cell_type": "markdown",
      "source": [
        "#**Get Categories and Counts of Categorical Variables**"
      ],
      "metadata": {
        "id": "uhTvsvUBKjHF"
      }
    },
    {
      "cell_type": "code",
      "source": [
        "df[['Motor']].value_counts()"
      ],
      "metadata": {
        "colab": {
          "base_uri": "https://localhost:8080/",
          "height": 0
        },
        "id": "rTLEFv7NKp4l",
        "outputId": "93754af7-9a2c-4aba-c731-64b5716f7c42"
      },
      "execution_count": 39,
      "outputs": [
        {
          "output_type": "execute_result",
          "data": {
            "text/plain": [
              "Motor\n",
              "C        40\n",
              "A        36\n",
              "B        36\n",
              "E        33\n",
              "D        22\n",
              "dtype: int64"
            ]
          },
          "metadata": {},
          "execution_count": 39
        }
      ]
    },
    {
      "cell_type": "code",
      "source": [
        "df[['Screw']].value_counts()"
      ],
      "metadata": {
        "colab": {
          "base_uri": "https://localhost:8080/",
          "height": 0
        },
        "id": "MONx0uSZK4Of",
        "outputId": "4b3031e0-1312-4aee-dfad-5ac5d3bf2e9b"
      },
      "execution_count": 11,
      "outputs": [
        {
          "output_type": "execute_result",
          "data": {
            "text/plain": [
              "Screw\n",
              "A        42\n",
              "B        35\n",
              "C        31\n",
              "D        30\n",
              "E        29\n",
              "dtype: int64"
            ]
          },
          "metadata": {},
          "execution_count": 11
        }
      ]
    },
    {
      "cell_type": "code",
      "source": [
        "df[['Pgain']].value_counts()"
      ],
      "metadata": {
        "colab": {
          "base_uri": "https://localhost:8080/",
          "height": 0
        },
        "id": "pRMcV9VNK73G",
        "outputId": "bc759eb5-ef20-44db-c2d1-a994cb9989c3"
      },
      "execution_count": 12,
      "outputs": [
        {
          "output_type": "execute_result",
          "data": {
            "text/plain": [
              "Pgain\n",
              "4        66\n",
              "3        50\n",
              "5        26\n",
              "6        25\n",
              "dtype: int64"
            ]
          },
          "metadata": {},
          "execution_count": 12
        }
      ]
    },
    {
      "cell_type": "code",
      "source": [
        "df[['Vgain']].value_counts()"
      ],
      "metadata": {
        "colab": {
          "base_uri": "https://localhost:8080/",
          "height": 0
        },
        "id": "bXBy22gcK-NY",
        "outputId": "bb0fa03a-05a1-41b3-dd2a-1dbb2a4fab89"
      },
      "execution_count": 13,
      "outputs": [
        {
          "output_type": "execute_result",
          "data": {
            "text/plain": [
              "Vgain\n",
              "2        49\n",
              "1        47\n",
              "3        27\n",
              "4        22\n",
              "5        22\n",
              "dtype: int64"
            ]
          },
          "metadata": {},
          "execution_count": 13
        }
      ]
    },
    {
      "cell_type": "code",
      "source": [
        "df[['Class']].value_counts()"
      ],
      "metadata": {
        "colab": {
          "base_uri": "https://localhost:8080/",
          "height": 0
        },
        "id": "NIThuncGLC0x",
        "outputId": "cb7e28aa-2d4b-4047-e299-bc00f634ddac"
      },
      "execution_count": 14,
      "outputs": [
        {
          "output_type": "execute_result",
          "data": {
            "text/plain": [
              "Class\n",
              "11       14\n",
              "12       11\n",
              "9         9\n",
              "13        8\n",
              "20        7\n",
              "6         6\n",
              "8         6\n",
              "41        5\n",
              "3         5\n",
              "4         5\n",
              "44        5\n",
              "35        4\n",
              "34        4\n",
              "45        4\n",
              "27        4\n",
              "26        4\n",
              "7         4\n",
              "42        3\n",
              "30        3\n",
              "19        3\n",
              "43        3\n",
              "21        3\n",
              "22        3\n",
              "23        3\n",
              "37        3\n",
              "2         3\n",
              "18        3\n",
              "5         2\n",
              "46        2\n",
              "17        2\n",
              "29        2\n",
              "25        2\n",
              "24        2\n",
              "16        2\n",
              "28        2\n",
              "47        1\n",
              "49        1\n",
              "50        1\n",
              "48        1\n",
              "1         1\n",
              "40        1\n",
              "39        1\n",
              "38        1\n",
              "36        1\n",
              "33        1\n",
              "32        1\n",
              "31        1\n",
              "15        1\n",
              "14        1\n",
              "10        1\n",
              "51        1\n",
              "dtype: int64"
            ]
          },
          "metadata": {},
          "execution_count": 14
        }
      ]
    },
    {
      "cell_type": "markdown",
      "source": [
        "#**Get Encoding of Categorical Features**"
      ],
      "metadata": {
        "id": "Nl7JUPyaLIbz"
      }
    },
    {
      "cell_type": "code",
      "source": [
        "df.replace({'Motor':{'A':0, 'B':1, 'C':2, 'D':3, 'E':4}},inplace=True)"
      ],
      "metadata": {
        "id": "Jf-cUnLbLSVz"
      },
      "execution_count": 15,
      "outputs": []
    },
    {
      "cell_type": "code",
      "source": [
        "df.replace({'Screw':{'A':0, 'B':1, 'C':2, 'D':3, 'E':4}},inplace=True)"
      ],
      "metadata": {
        "id": "BwkVy47wQKPv"
      },
      "execution_count": 16,
      "outputs": []
    },
    {
      "cell_type": "markdown",
      "source": [
        "#**Define y (dependent or label or target variable) and X (independent or features or attribute Variable)**"
      ],
      "metadata": {
        "id": "d_MlBrXxSfAd"
      }
    },
    {
      "cell_type": "code",
      "source": [
        "y = df['Class']"
      ],
      "metadata": {
        "id": "CJRWzNbcSxwa"
      },
      "execution_count": 17,
      "outputs": []
    },
    {
      "cell_type": "code",
      "source": [
        "y.shape"
      ],
      "metadata": {
        "colab": {
          "base_uri": "https://localhost:8080/",
          "height": 0
        },
        "id": "FaxLnKweS1bq",
        "outputId": "557c1776-126d-4e3c-f691-66023604f8cd"
      },
      "execution_count": 18,
      "outputs": [
        {
          "output_type": "execute_result",
          "data": {
            "text/plain": [
              "(167,)"
            ]
          },
          "metadata": {},
          "execution_count": 18
        }
      ]
    },
    {
      "cell_type": "code",
      "source": [
        "y"
      ],
      "metadata": {
        "colab": {
          "base_uri": "https://localhost:8080/",
          "height": 0
        },
        "id": "gh-98NrZS3PT",
        "outputId": "d9de160b-1ca9-42b2-ef5d-9567d272df42"
      },
      "execution_count": 19,
      "outputs": [
        {
          "output_type": "execute_result",
          "data": {
            "text/plain": [
              "0       4\n",
              "1      11\n",
              "2       6\n",
              "3      48\n",
              "4       6\n",
              "       ..\n",
              "162    44\n",
              "163    40\n",
              "164    25\n",
              "165    44\n",
              "166    20\n",
              "Name: Class, Length: 167, dtype: int64"
            ]
          },
          "metadata": {},
          "execution_count": 19
        }
      ]
    },
    {
      "cell_type": "code",
      "source": [
        "X = df[['Motor', 'Screw', 'Pgain', 'Vgain']]"
      ],
      "metadata": {
        "id": "5AdTWxk1S5Qk"
      },
      "execution_count": 20,
      "outputs": []
    },
    {
      "cell_type": "code",
      "source": [
        "X.shape"
      ],
      "metadata": {
        "colab": {
          "base_uri": "https://localhost:8080/",
          "height": 0
        },
        "id": "QBjM9Ee-Vfje",
        "outputId": "132d6e07-4235-4bc4-d69f-011ee8ebc960"
      },
      "execution_count": 21,
      "outputs": [
        {
          "output_type": "execute_result",
          "data": {
            "text/plain": [
              "(167, 4)"
            ]
          },
          "metadata": {},
          "execution_count": 21
        }
      ]
    },
    {
      "cell_type": "code",
      "source": [
        "X"
      ],
      "metadata": {
        "colab": {
          "base_uri": "https://localhost:8080/",
          "height": 423
        },
        "id": "wrRupPIZVug7",
        "outputId": "a6da9b25-f746-4964-d39e-c6e22bfb8ee0"
      },
      "execution_count": 22,
      "outputs": [
        {
          "output_type": "execute_result",
          "data": {
            "text/plain": [
              "     Motor  Screw  Pgain  Vgain\n",
              "0        4      4      5      4\n",
              "1        1      3      6      5\n",
              "2        3      3      4      3\n",
              "3        1      0      3      2\n",
              "4        3      1      6      5\n",
              "..     ...    ...    ...    ...\n",
              "162      1      2      3      2\n",
              "163      1      4      3      1\n",
              "164      2      3      4      3\n",
              "165      0      1      3      2\n",
              "166      0      0      6      5\n",
              "\n",
              "[167 rows x 4 columns]"
            ],
            "text/html": [
              "\n",
              "  <div id=\"df-3570eae6-58ab-4def-b3e2-0d4b76ac5e9f\">\n",
              "    <div class=\"colab-df-container\">\n",
              "      <div>\n",
              "<style scoped>\n",
              "    .dataframe tbody tr th:only-of-type {\n",
              "        vertical-align: middle;\n",
              "    }\n",
              "\n",
              "    .dataframe tbody tr th {\n",
              "        vertical-align: top;\n",
              "    }\n",
              "\n",
              "    .dataframe thead th {\n",
              "        text-align: right;\n",
              "    }\n",
              "</style>\n",
              "<table border=\"1\" class=\"dataframe\">\n",
              "  <thead>\n",
              "    <tr style=\"text-align: right;\">\n",
              "      <th></th>\n",
              "      <th>Motor</th>\n",
              "      <th>Screw</th>\n",
              "      <th>Pgain</th>\n",
              "      <th>Vgain</th>\n",
              "    </tr>\n",
              "  </thead>\n",
              "  <tbody>\n",
              "    <tr>\n",
              "      <th>0</th>\n",
              "      <td>4</td>\n",
              "      <td>4</td>\n",
              "      <td>5</td>\n",
              "      <td>4</td>\n",
              "    </tr>\n",
              "    <tr>\n",
              "      <th>1</th>\n",
              "      <td>1</td>\n",
              "      <td>3</td>\n",
              "      <td>6</td>\n",
              "      <td>5</td>\n",
              "    </tr>\n",
              "    <tr>\n",
              "      <th>2</th>\n",
              "      <td>3</td>\n",
              "      <td>3</td>\n",
              "      <td>4</td>\n",
              "      <td>3</td>\n",
              "    </tr>\n",
              "    <tr>\n",
              "      <th>3</th>\n",
              "      <td>1</td>\n",
              "      <td>0</td>\n",
              "      <td>3</td>\n",
              "      <td>2</td>\n",
              "    </tr>\n",
              "    <tr>\n",
              "      <th>4</th>\n",
              "      <td>3</td>\n",
              "      <td>1</td>\n",
              "      <td>6</td>\n",
              "      <td>5</td>\n",
              "    </tr>\n",
              "    <tr>\n",
              "      <th>...</th>\n",
              "      <td>...</td>\n",
              "      <td>...</td>\n",
              "      <td>...</td>\n",
              "      <td>...</td>\n",
              "    </tr>\n",
              "    <tr>\n",
              "      <th>162</th>\n",
              "      <td>1</td>\n",
              "      <td>2</td>\n",
              "      <td>3</td>\n",
              "      <td>2</td>\n",
              "    </tr>\n",
              "    <tr>\n",
              "      <th>163</th>\n",
              "      <td>1</td>\n",
              "      <td>4</td>\n",
              "      <td>3</td>\n",
              "      <td>1</td>\n",
              "    </tr>\n",
              "    <tr>\n",
              "      <th>164</th>\n",
              "      <td>2</td>\n",
              "      <td>3</td>\n",
              "      <td>4</td>\n",
              "      <td>3</td>\n",
              "    </tr>\n",
              "    <tr>\n",
              "      <th>165</th>\n",
              "      <td>0</td>\n",
              "      <td>1</td>\n",
              "      <td>3</td>\n",
              "      <td>2</td>\n",
              "    </tr>\n",
              "    <tr>\n",
              "      <th>166</th>\n",
              "      <td>0</td>\n",
              "      <td>0</td>\n",
              "      <td>6</td>\n",
              "      <td>5</td>\n",
              "    </tr>\n",
              "  </tbody>\n",
              "</table>\n",
              "<p>167 rows × 4 columns</p>\n",
              "</div>\n",
              "      <button class=\"colab-df-convert\" onclick=\"convertToInteractive('df-3570eae6-58ab-4def-b3e2-0d4b76ac5e9f')\"\n",
              "              title=\"Convert this dataframe to an interactive table.\"\n",
              "              style=\"display:none;\">\n",
              "        \n",
              "  <svg xmlns=\"http://www.w3.org/2000/svg\" height=\"24px\"viewBox=\"0 0 24 24\"\n",
              "       width=\"24px\">\n",
              "    <path d=\"M0 0h24v24H0V0z\" fill=\"none\"/>\n",
              "    <path d=\"M18.56 5.44l.94 2.06.94-2.06 2.06-.94-2.06-.94-.94-2.06-.94 2.06-2.06.94zm-11 1L8.5 8.5l.94-2.06 2.06-.94-2.06-.94L8.5 2.5l-.94 2.06-2.06.94zm10 10l.94 2.06.94-2.06 2.06-.94-2.06-.94-.94-2.06-.94 2.06-2.06.94z\"/><path d=\"M17.41 7.96l-1.37-1.37c-.4-.4-.92-.59-1.43-.59-.52 0-1.04.2-1.43.59L10.3 9.45l-7.72 7.72c-.78.78-.78 2.05 0 2.83L4 21.41c.39.39.9.59 1.41.59.51 0 1.02-.2 1.41-.59l7.78-7.78 2.81-2.81c.8-.78.8-2.07 0-2.86zM5.41 20L4 18.59l7.72-7.72 1.47 1.35L5.41 20z\"/>\n",
              "  </svg>\n",
              "      </button>\n",
              "      \n",
              "  <style>\n",
              "    .colab-df-container {\n",
              "      display:flex;\n",
              "      flex-wrap:wrap;\n",
              "      gap: 12px;\n",
              "    }\n",
              "\n",
              "    .colab-df-convert {\n",
              "      background-color: #E8F0FE;\n",
              "      border: none;\n",
              "      border-radius: 50%;\n",
              "      cursor: pointer;\n",
              "      display: none;\n",
              "      fill: #1967D2;\n",
              "      height: 32px;\n",
              "      padding: 0 0 0 0;\n",
              "      width: 32px;\n",
              "    }\n",
              "\n",
              "    .colab-df-convert:hover {\n",
              "      background-color: #E2EBFA;\n",
              "      box-shadow: 0px 1px 2px rgba(60, 64, 67, 0.3), 0px 1px 3px 1px rgba(60, 64, 67, 0.15);\n",
              "      fill: #174EA6;\n",
              "    }\n",
              "\n",
              "    [theme=dark] .colab-df-convert {\n",
              "      background-color: #3B4455;\n",
              "      fill: #D2E3FC;\n",
              "    }\n",
              "\n",
              "    [theme=dark] .colab-df-convert:hover {\n",
              "      background-color: #434B5C;\n",
              "      box-shadow: 0px 1px 3px 1px rgba(0, 0, 0, 0.15);\n",
              "      filter: drop-shadow(0px 1px 2px rgba(0, 0, 0, 0.3));\n",
              "      fill: #FFFFFF;\n",
              "    }\n",
              "  </style>\n",
              "\n",
              "      <script>\n",
              "        const buttonEl =\n",
              "          document.querySelector('#df-3570eae6-58ab-4def-b3e2-0d4b76ac5e9f button.colab-df-convert');\n",
              "        buttonEl.style.display =\n",
              "          google.colab.kernel.accessAllowed ? 'block' : 'none';\n",
              "\n",
              "        async function convertToInteractive(key) {\n",
              "          const element = document.querySelector('#df-3570eae6-58ab-4def-b3e2-0d4b76ac5e9f');\n",
              "          const dataTable =\n",
              "            await google.colab.kernel.invokeFunction('convertToInteractive',\n",
              "                                                     [key], {});\n",
              "          if (!dataTable) return;\n",
              "\n",
              "          const docLinkHtml = 'Like what you see? Visit the ' +\n",
              "            '<a target=\"_blank\" href=https://colab.research.google.com/notebooks/data_table.ipynb>data table notebook</a>'\n",
              "            + ' to learn more about interactive tables.';\n",
              "          element.innerHTML = '';\n",
              "          dataTable['output_type'] = 'display_data';\n",
              "          await google.colab.output.renderOutput(dataTable, element);\n",
              "          const docLink = document.createElement('div');\n",
              "          docLink.innerHTML = docLinkHtml;\n",
              "          element.appendChild(docLink);\n",
              "        }\n",
              "      </script>\n",
              "    </div>\n",
              "  </div>\n",
              "  "
            ]
          },
          "metadata": {},
          "execution_count": 22
        }
      ]
    },
    {
      "cell_type": "markdown",
      "source": [
        "# **Get Train Test Split**"
      ],
      "metadata": {
        "id": "A_Kcrdz4VyQ0"
      }
    },
    {
      "cell_type": "code",
      "source": [
        "from sklearn.model_selection import train_test_split"
      ],
      "metadata": {
        "id": "vzrIwDbYV1rY"
      },
      "execution_count": 23,
      "outputs": []
    },
    {
      "cell_type": "code",
      "source": [
        "X_train, X_test, y_train, y_test = train_test_split(X,y, test_size = 0.3, random_state=2529)"
      ],
      "metadata": {
        "id": "Vpd-NPGeWmPT"
      },
      "execution_count": 24,
      "outputs": []
    },
    {
      "cell_type": "code",
      "source": [
        "X_train.shape, X_test.shape, y_train.shape, y_test.shape"
      ],
      "metadata": {
        "colab": {
          "base_uri": "https://localhost:8080/",
          "height": 0
        },
        "id": "avA7BjUlXGi1",
        "outputId": "ce3b4dae-521d-402d-c8b2-296f3ccdfbd5"
      },
      "execution_count": 25,
      "outputs": [
        {
          "output_type": "execute_result",
          "data": {
            "text/plain": [
              "((116, 4), (51, 4), (116,), (51,))"
            ]
          },
          "metadata": {},
          "execution_count": 25
        }
      ]
    },
    {
      "cell_type": "markdown",
      "source": [
        "# **Get Model Train**"
      ],
      "metadata": {
        "id": "t0XxTfatXPxD"
      }
    },
    {
      "cell_type": "code",
      "source": [
        "from sklearn.linear_model import LinearRegression"
      ],
      "metadata": {
        "id": "bsBbMGnmXYRJ"
      },
      "execution_count": 26,
      "outputs": []
    },
    {
      "cell_type": "code",
      "source": [
        "lr = LinearRegression()"
      ],
      "metadata": {
        "id": "1-onDPtdXdGb"
      },
      "execution_count": 27,
      "outputs": []
    },
    {
      "cell_type": "code",
      "source": [
        "lr.fit(X_train, y_train)"
      ],
      "metadata": {
        "colab": {
          "base_uri": "https://localhost:8080/",
          "height": 74
        },
        "id": "OGNHrK5jXhRn",
        "outputId": "2bc634bb-88b6-43a7-e6bd-41e6791a0d46"
      },
      "execution_count": 28,
      "outputs": [
        {
          "output_type": "execute_result",
          "data": {
            "text/plain": [
              "LinearRegression()"
            ],
            "text/html": [
              "<style>#sk-container-id-1 {color: black;background-color: white;}#sk-container-id-1 pre{padding: 0;}#sk-container-id-1 div.sk-toggleable {background-color: white;}#sk-container-id-1 label.sk-toggleable__label {cursor: pointer;display: block;width: 100%;margin-bottom: 0;padding: 0.3em;box-sizing: border-box;text-align: center;}#sk-container-id-1 label.sk-toggleable__label-arrow:before {content: \"▸\";float: left;margin-right: 0.25em;color: #696969;}#sk-container-id-1 label.sk-toggleable__label-arrow:hover:before {color: black;}#sk-container-id-1 div.sk-estimator:hover label.sk-toggleable__label-arrow:before {color: black;}#sk-container-id-1 div.sk-toggleable__content {max-height: 0;max-width: 0;overflow: hidden;text-align: left;background-color: #f0f8ff;}#sk-container-id-1 div.sk-toggleable__content pre {margin: 0.2em;color: black;border-radius: 0.25em;background-color: #f0f8ff;}#sk-container-id-1 input.sk-toggleable__control:checked~div.sk-toggleable__content {max-height: 200px;max-width: 100%;overflow: auto;}#sk-container-id-1 input.sk-toggleable__control:checked~label.sk-toggleable__label-arrow:before {content: \"▾\";}#sk-container-id-1 div.sk-estimator input.sk-toggleable__control:checked~label.sk-toggleable__label {background-color: #d4ebff;}#sk-container-id-1 div.sk-label input.sk-toggleable__control:checked~label.sk-toggleable__label {background-color: #d4ebff;}#sk-container-id-1 input.sk-hidden--visually {border: 0;clip: rect(1px 1px 1px 1px);clip: rect(1px, 1px, 1px, 1px);height: 1px;margin: -1px;overflow: hidden;padding: 0;position: absolute;width: 1px;}#sk-container-id-1 div.sk-estimator {font-family: monospace;background-color: #f0f8ff;border: 1px dotted black;border-radius: 0.25em;box-sizing: border-box;margin-bottom: 0.5em;}#sk-container-id-1 div.sk-estimator:hover {background-color: #d4ebff;}#sk-container-id-1 div.sk-parallel-item::after {content: \"\";width: 100%;border-bottom: 1px solid gray;flex-grow: 1;}#sk-container-id-1 div.sk-label:hover label.sk-toggleable__label {background-color: #d4ebff;}#sk-container-id-1 div.sk-serial::before {content: \"\";position: absolute;border-left: 1px solid gray;box-sizing: border-box;top: 0;bottom: 0;left: 50%;z-index: 0;}#sk-container-id-1 div.sk-serial {display: flex;flex-direction: column;align-items: center;background-color: white;padding-right: 0.2em;padding-left: 0.2em;position: relative;}#sk-container-id-1 div.sk-item {position: relative;z-index: 1;}#sk-container-id-1 div.sk-parallel {display: flex;align-items: stretch;justify-content: center;background-color: white;position: relative;}#sk-container-id-1 div.sk-item::before, #sk-container-id-1 div.sk-parallel-item::before {content: \"\";position: absolute;border-left: 1px solid gray;box-sizing: border-box;top: 0;bottom: 0;left: 50%;z-index: -1;}#sk-container-id-1 div.sk-parallel-item {display: flex;flex-direction: column;z-index: 1;position: relative;background-color: white;}#sk-container-id-1 div.sk-parallel-item:first-child::after {align-self: flex-end;width: 50%;}#sk-container-id-1 div.sk-parallel-item:last-child::after {align-self: flex-start;width: 50%;}#sk-container-id-1 div.sk-parallel-item:only-child::after {width: 0;}#sk-container-id-1 div.sk-dashed-wrapped {border: 1px dashed gray;margin: 0 0.4em 0.5em 0.4em;box-sizing: border-box;padding-bottom: 0.4em;background-color: white;}#sk-container-id-1 div.sk-label label {font-family: monospace;font-weight: bold;display: inline-block;line-height: 1.2em;}#sk-container-id-1 div.sk-label-container {text-align: center;}#sk-container-id-1 div.sk-container {/* jupyter's `normalize.less` sets `[hidden] { display: none; }` but bootstrap.min.css set `[hidden] { display: none !important; }` so we also need the `!important` here to be able to override the default hidden behavior on the sphinx rendered scikit-learn.org. See: https://github.com/scikit-learn/scikit-learn/issues/21755 */display: inline-block !important;position: relative;}#sk-container-id-1 div.sk-text-repr-fallback {display: none;}</style><div id=\"sk-container-id-1\" class=\"sk-top-container\"><div class=\"sk-text-repr-fallback\"><pre>LinearRegression()</pre><b>In a Jupyter environment, please rerun this cell to show the HTML representation or trust the notebook. <br />On GitHub, the HTML representation is unable to render, please try loading this page with nbviewer.org.</b></div><div class=\"sk-container\" hidden><div class=\"sk-item\"><div class=\"sk-estimator sk-toggleable\"><input class=\"sk-toggleable__control sk-hidden--visually\" id=\"sk-estimator-id-1\" type=\"checkbox\" checked><label for=\"sk-estimator-id-1\" class=\"sk-toggleable__label sk-toggleable__label-arrow\">LinearRegression</label><div class=\"sk-toggleable__content\"><pre>LinearRegression()</pre></div></div></div></div></div>"
            ]
          },
          "metadata": {},
          "execution_count": 28
        }
      ]
    },
    {
      "cell_type": "markdown",
      "source": [
        "# **Get Model Prediction**"
      ],
      "metadata": {
        "id": "ZNici8R0Xmgz"
      }
    },
    {
      "cell_type": "code",
      "source": [
        "y_pred = lr.predict(X_test)"
      ],
      "metadata": {
        "id": "AHiGwHknXqV5"
      },
      "execution_count": 40,
      "outputs": []
    },
    {
      "cell_type": "code",
      "source": [
        "y_pred.shape"
      ],
      "metadata": {
        "colab": {
          "base_uri": "https://localhost:8080/",
          "height": 0
        },
        "id": "exz2y0xCn0vH",
        "outputId": "e34b0099-fb0a-46d8-f7de-290fa890360f"
      },
      "execution_count": 30,
      "outputs": [
        {
          "output_type": "execute_result",
          "data": {
            "text/plain": [
              "(51,)"
            ]
          },
          "metadata": {},
          "execution_count": 30
        }
      ]
    },
    {
      "cell_type": "code",
      "source": [
        "y_pred"
      ],
      "metadata": {
        "colab": {
          "base_uri": "https://localhost:8080/",
          "height": 0
        },
        "id": "crQooCh4n3mn",
        "outputId": "8b4f1814-2ef3-4d71-ff71-76c1936aa085"
      },
      "execution_count": 31,
      "outputs": [
        {
          "output_type": "execute_result",
          "data": {
            "text/plain": [
              "array([24.55945258, 30.98765106, 18.54485477, 25.51524243, 38.56082023,\n",
              "       23.52007775, 11.61947065, 20.03335614, 40.60404401, 41.7009556 ,\n",
              "       13.66269443, 26.01242807, 16.50163099, 16.54663453, 21.92598051,\n",
              "       22.52570646, -5.46449561, 30.68912392, 32.7323477 ,  1.41282941,\n",
              "       33.97718702, 31.63543611, 33.52806048, 30.04133887, 19.38557109,\n",
              "        6.49364826, 28.5528375 , 17.04382017, 25.06611589,  3.50411229,\n",
              "       30.59606128, 23.67067716, 35.72188367, 32.08456265, 12.46018697,\n",
              "        3.6547117 , 23.47201865, 33.03087484, 17.49294672, 37.61450804,\n",
              "       27.54898855, 22.07657992, 11.51387478,  9.470651  , 30.53852451,\n",
              "       28.64590014, 33.67865989,  4.60102388, 24.1198037 , 21.13026773,\n",
              "       25.71390094])"
            ]
          },
          "metadata": {},
          "execution_count": 31
        }
      ]
    },
    {
      "cell_type": "markdown",
      "source": [
        "# **Get Model Evaluation**"
      ],
      "metadata": {
        "id": "moRkD5ANn-nE"
      }
    },
    {
      "cell_type": "code",
      "source": [
        "from sklearn.metrics import mean_squared_error, mean_absolute_error, r2_score"
      ],
      "metadata": {
        "id": "frDTxK1HoBR1"
      },
      "execution_count": 32,
      "outputs": []
    },
    {
      "cell_type": "code",
      "source": [
        "mean_squared_error(y_test, y_pred)"
      ],
      "metadata": {
        "colab": {
          "base_uri": "https://localhost:8080/",
          "height": 0
        },
        "id": "RA2hEemCoLra",
        "outputId": "7b1fa9fe-f404-40c5-d604-30d89a14d774"
      },
      "execution_count": 33,
      "outputs": [
        {
          "output_type": "execute_result",
          "data": {
            "text/plain": [
              "66.03589175595563"
            ]
          },
          "metadata": {},
          "execution_count": 33
        }
      ]
    },
    {
      "cell_type": "code",
      "source": [
        "mean_absolute_error(y_test, y_pred)"
      ],
      "metadata": {
        "colab": {
          "base_uri": "https://localhost:8080/",
          "height": 0
        },
        "id": "WXH4SKy6oTG5",
        "outputId": "25fb5429-fec9-4f96-d369-39fed8545cde"
      },
      "execution_count": 34,
      "outputs": [
        {
          "output_type": "execute_result",
          "data": {
            "text/plain": [
              "7.190539677251235"
            ]
          },
          "metadata": {},
          "execution_count": 34
        }
      ]
    },
    {
      "cell_type": "code",
      "source": [
        "r2_score(y_test, y_pred)"
      ],
      "metadata": {
        "colab": {
          "base_uri": "https://localhost:8080/",
          "height": 0
        },
        "id": "Rg1HVaIboZXv",
        "outputId": "e43c4641-8942-420a-aeca-9d53c655920b"
      },
      "execution_count": 35,
      "outputs": [
        {
          "output_type": "execute_result",
          "data": {
            "text/plain": [
              "0.6807245170563927"
            ]
          },
          "metadata": {},
          "execution_count": 35
        }
      ]
    },
    {
      "cell_type": "markdown",
      "source": [
        "# **Get Visualization of Actual Vs Predicted Results**"
      ],
      "metadata": {
        "id": "Kv3k0HU2ogYf"
      }
    },
    {
      "cell_type": "code",
      "source": [
        "import matplotlib.pyplot as plt\n",
        "plt.scatter(y_test, y_pred)\n",
        "plt.xlabel(\"Actual\")\n",
        "plt.ylabel(\"Predicted\")\n",
        "plt.title(\"Actual vs Predicted\")\n",
        "plt.show()"
      ],
      "metadata": {
        "colab": {
          "base_uri": "https://localhost:8080/",
          "height": 472
        },
        "id": "8oW74DB9onRm",
        "outputId": "037b110f-f44d-42d8-df99-9cd15cb47674"
      },
      "execution_count": 36,
      "outputs": [
        {
          "output_type": "display_data",
          "data": {
            "text/plain": [
              "<Figure size 640x480 with 1 Axes>"
            ],
            "image/png": "[encoded data removed]"
          },
          "metadata": {}
        }
      ]
    }
  ]
}